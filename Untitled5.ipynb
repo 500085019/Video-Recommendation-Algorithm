{
 "cells": [
  {
   "cell_type": "code",
   "execution_count": 9,
   "id": "efada977-df3a-42b6-af6b-83dc34dfdae6",
   "metadata": {},
   "outputs": [
    {
     "name": "stdout",
     "output_type": "stream",
     "text": [
      "Requirement already satisfied: requests in c:\\users\\naman\\anaconda3\\lib\\site-packages (2.31.0)\n",
      "Requirement already satisfied: pandas in c:\\users\\naman\\anaconda3\\lib\\site-packages (2.1.4)\n",
      "Requirement already satisfied: scikit-learn in c:\\users\\naman\\anaconda3\\lib\\site-packages (1.2.2)\n",
      "Requirement already satisfied: charset-normalizer<4,>=2 in c:\\users\\naman\\anaconda3\\lib\\site-packages (from requests) (2.0.4)\n",
      "Requirement already satisfied: idna<4,>=2.5 in c:\\users\\naman\\anaconda3\\lib\\site-packages (from requests) (3.4)\n",
      "Requirement already satisfied: urllib3<3,>=1.21.1 in c:\\users\\naman\\anaconda3\\lib\\site-packages (from requests) (2.0.7)\n",
      "Requirement already satisfied: certifi>=2017.4.17 in c:\\users\\naman\\anaconda3\\lib\\site-packages (from requests) (2024.2.2)\n",
      "Requirement already satisfied: numpy<2,>=1.23.2 in c:\\users\\naman\\anaconda3\\lib\\site-packages (from pandas) (1.26.4)\n",
      "Requirement already satisfied: python-dateutil>=2.8.2 in c:\\users\\naman\\anaconda3\\lib\\site-packages (from pandas) (2.8.2)\n",
      "Requirement already satisfied: pytz>=2020.1 in c:\\users\\naman\\anaconda3\\lib\\site-packages (from pandas) (2023.3.post1)\n",
      "Requirement already satisfied: tzdata>=2022.1 in c:\\users\\naman\\anaconda3\\lib\\site-packages (from pandas) (2023.3)\n",
      "Requirement already satisfied: scipy>=1.3.2 in c:\\users\\naman\\anaconda3\\lib\\site-packages (from scikit-learn) (1.11.4)\n",
      "Requirement already satisfied: joblib>=1.1.1 in c:\\users\\naman\\anaconda3\\lib\\site-packages (from scikit-learn) (1.2.0)\n",
      "Requirement already satisfied: threadpoolctl>=2.0.0 in c:\\users\\naman\\anaconda3\\lib\\site-packages (from scikit-learn) (2.2.0)\n",
      "Requirement already satisfied: six>=1.5 in c:\\users\\naman\\anaconda3\\lib\\site-packages (from python-dateutil>=2.8.2->pandas) (1.16.0)\n",
      "Note: you may need to restart the kernel to use updated packages.\n"
     ]
    }
   ],
   "source": [
    "pip install requests pandas scikit-learn\n"
   ]
  },
  {
   "cell_type": "code",
   "execution_count": 10,
   "id": "f1e49421-d732-4174-a0e6-920ad5713e07",
   "metadata": {},
   "outputs": [
    {
     "name": "stdout",
     "output_type": "stream",
     "text": [
      "Empty DataFrame\n",
      "Columns: []\n",
      "Index: []\n"
     ]
    }
   ],
   "source": [
    "import requests\n",
    "import pandas as pd\n",
    "\n",
    "def fetch_video_data(api_url, pages=5):\n",
    "    video_data = []\n",
    "    for page in range(1, pages + 1):\n",
    "        response = requests.get(f'{api_url}?page={page}')\n",
    "        if response.status_code == 200:\n",
    "            data = response.json().get('data', [])\n",
    "            video_data.extend(data)\n",
    "        else:\n",
    "            print(f\"Failed to fetch data for page {page}\")\n",
    "    return pd.DataFrame(video_data)\n",
    "\n",
    "api_url = 'https://api.socialverseapp.com/feed'\n",
    "video_df = fetch_video_data(api_url, pages=5)\n",
    "print(video_df.head())  # Preview the fetched video data\n"
   ]
  },
  {
   "cell_type": "code",
   "execution_count": 14,
   "id": "b921be97-aeb8-4db3-89f4-9f3e09220ac4",
   "metadata": {},
   "outputs": [],
   "source": [
    "import pandas as pd\n",
    "\n",
    "# Dummy user data\n",
    "user_data = pd.DataFrame({\n",
    "    'user_id': [1, 2],\n",
    "    'watch_history': [['gH6RufM', 'RkDxVUS'], ['8IoVMwl', 'JpTgzwF']],\n",
    "    'language': ['en', 'en'],\n",
    "    'location': ['USA', 'UK']\n",
    "})\n"
   ]
  },
  {
   "cell_type": "code",
   "execution_count": 15,
   "id": "e52ed40f-fc26-4cac-994e-c523a432715d",
   "metadata": {},
   "outputs": [],
   "source": [
    "import requests\n",
    "\n",
    "def fetch_video_data(url):\n",
    "    response = requests.get(url)\n",
    "    return response.json()\n",
    "\n",
    "# API URL\n",
    "api_url = \"https://api.socialverseapp.com/feed?page=1\"\n",
    "video_data = fetch_video_data(api_url)\n",
    "\n",
    "# Convert to DataFrame\n",
    "video_df = pd.DataFrame(video_data['posts'])\n",
    "\n",
    "# Extract relevant columns\n",
    "video_df = video_df[['id', 'title', 'category', 'average_rating', 'view_count', 'video_link']]\n",
    "video_df.columns = ['video_id', 'title', 'category', 'rating', 'views', 'link']\n"
   ]
  },
  {
   "cell_type": "code",
   "execution_count": 16,
   "id": "4d20a80b-1d26-461e-9508-f828339f68b3",
   "metadata": {},
   "outputs": [
    {
     "name": "stdout",
     "output_type": "stream",
     "text": [
      "                                               title  rating  views  \\\n",
      "2  Every master was once a beginner. And every pr...      92      0   \n",
      "0  “She has to handle that…” 💯 - Dan Blizerian - ...      91      0   \n",
      "3  Mind coloring… never thought of it that way. #...      89      0   \n",
      "1  “Time has the power to change…” 🤍 - Speaker_ K...      86      0   \n",
      "4  Agree or disagree_ #dailywisdom #learningontik...      86      0   \n",
      "\n",
      "                                                link  \n",
      "2  https://video-cdn.socialverseapp.com/kinha_d45...  \n",
      "0  https://video-cdn.socialverseapp.com/kinha_88c...  \n",
      "3  https://video-cdn.socialverseapp.com/kinha_5b4...  \n",
      "1  https://video-cdn.socialverseapp.com/kinha_779...  \n",
      "4  https://video-cdn.socialverseapp.com/kinha_22e...  \n"
     ]
    }
   ],
   "source": [
    "def recommend_videos(user_id, user_data, video_df):\n",
    "    user = user_data[user_data['user_id'] == user_id].iloc[0]\n",
    "    watched_videos = user['watch_history']\n",
    "    \n",
    "    # Filter out watched videos\n",
    "    recommendations = video_df[~video_df['video_id'].isin(watched_videos)]\n",
    "    \n",
    "    # Basic recommendation logic: sort by rating and views\n",
    "    recommendations = recommendations.sort_values(by=['rating', 'views'], ascending=False)\n",
    "    \n",
    "    return recommendations\n",
    "\n",
    "# Example recommendation for user_id 1\n",
    "recommended_videos = recommend_videos(user_id=1, user_data=user_data, video_df=video_df)\n",
    "print(recommended_videos[['title', 'rating', 'views', 'link']])\n"
   ]
  },
  {
   "cell_type": "code",
   "execution_count": 19,
   "id": "17f8d841-9342-47d1-86e1-5efb67554f57",
   "metadata": {},
   "outputs": [
    {
     "name": "stdout",
     "output_type": "stream",
     "text": [
      "\n",
      "Recommended Videos for User 1:\n",
      "     title  rating  views                                          link\n",
      "3  Video 4     5.0     50  https://video-cdn.socialverseapp.com/104.mp4\n",
      "5  Video 6     4.8    180  https://video-cdn.socialverseapp.com/106.mp4\n",
      "7  Video 8     4.6     90  https://video-cdn.socialverseapp.com/108.mp4\n",
      "4  Video 5     4.2    120  https://video-cdn.socialverseapp.com/105.mp4\n",
      "6  Video 7     3.9    130  https://video-cdn.socialverseapp.com/107.mp4\n",
      "2  Video 3     3.5    200  https://video-cdn.socialverseapp.com/103.mp4\n",
      "\n",
      "Recommended Videos for User 2:\n",
      "     title  rating  views                                          link\n",
      "3  Video 4     5.0     50  https://video-cdn.socialverseapp.com/104.mp4\n",
      "5  Video 6     4.8    180  https://video-cdn.socialverseapp.com/106.mp4\n",
      "7  Video 8     4.6     90  https://video-cdn.socialverseapp.com/108.mp4\n",
      "0  Video 1     4.5    100  https://video-cdn.socialverseapp.com/101.mp4\n",
      "4  Video 5     4.2    120  https://video-cdn.socialverseapp.com/105.mp4\n",
      "1  Video 2     4.0    150  https://video-cdn.socialverseapp.com/102.mp4\n",
      "6  Video 7     3.9    130  https://video-cdn.socialverseapp.com/107.mp4\n",
      "\n",
      "Recommended Videos for User 3:\n",
      "     title  rating  views                                          link\n",
      "5  Video 6     4.8    180  https://video-cdn.socialverseapp.com/106.mp4\n",
      "7  Video 8     4.6     90  https://video-cdn.socialverseapp.com/108.mp4\n",
      "0  Video 1     4.5    100  https://video-cdn.socialverseapp.com/101.mp4\n",
      "1  Video 2     4.0    150  https://video-cdn.socialverseapp.com/102.mp4\n",
      "6  Video 7     3.9    130  https://video-cdn.socialverseapp.com/107.mp4\n",
      "2  Video 3     3.5    200  https://video-cdn.socialverseapp.com/103.mp4\n",
      "\n",
      "Recommended Videos for User 4:\n",
      "     title  rating  views                                          link\n",
      "3  Video 4     5.0     50  https://video-cdn.socialverseapp.com/104.mp4\n",
      "7  Video 8     4.6     90  https://video-cdn.socialverseapp.com/108.mp4\n",
      "0  Video 1     4.5    100  https://video-cdn.socialverseapp.com/101.mp4\n",
      "4  Video 5     4.2    120  https://video-cdn.socialverseapp.com/105.mp4\n",
      "1  Video 2     4.0    150  https://video-cdn.socialverseapp.com/102.mp4\n",
      "6  Video 7     3.9    130  https://video-cdn.socialverseapp.com/107.mp4\n",
      "2  Video 3     3.5    200  https://video-cdn.socialverseapp.com/103.mp4\n",
      "\n",
      "Recommended Videos for User 5:\n",
      "     title  rating  views                                          link\n",
      "3  Video 4     5.0     50  https://video-cdn.socialverseapp.com/104.mp4\n",
      "5  Video 6     4.8    180  https://video-cdn.socialverseapp.com/106.mp4\n",
      "7  Video 8     4.6     90  https://video-cdn.socialverseapp.com/108.mp4\n",
      "4  Video 5     4.2    120  https://video-cdn.socialverseapp.com/105.mp4\n",
      "1  Video 2     4.0    150  https://video-cdn.socialverseapp.com/102.mp4\n",
      "2  Video 3     3.5    200  https://video-cdn.socialverseapp.com/103.mp4\n"
     ]
    }
   ],
   "source": [
    "import pandas as pd\n",
    "\n",
    "# Sample user data with up to 5 users\n",
    "user_data = pd.DataFrame({\n",
    "    'user_id': [1, 2, 3, 4, 5],\n",
    "    'watch_history': [\n",
    "        [101, 102],       # User 1 has watched videos with IDs 101 and 102\n",
    "        [103],            # User 2 has watched video with ID 103\n",
    "        [104, 105],       # User 3 has watched videos with IDs 104 and 105\n",
    "        [106],            # User 4 has watched video with ID 106\n",
    "        [101, 107]        # User 5 has watched videos with IDs 101 and 107\n",
    "    ],\n",
    "    'language': ['English', 'English', 'Spanish', 'French', 'English'],\n",
    "    'location': ['US', 'UK', 'ES', 'FR', 'US']\n",
    "})\n",
    "\n",
    "# Sample video data\n",
    "video_df = pd.DataFrame({\n",
    "    'video_id': [101, 102, 103, 104, 105, 106, 107, 108],\n",
    "    'title': ['Video 1', 'Video 2', 'Video 3', 'Video 4', 'Video 5', 'Video 6', 'Video 7', 'Video 8'],\n",
    "    'rating': [4.5, 4.0, 3.5, 5.0, 4.2, 4.8, 3.9, 4.6],\n",
    "    'views': [100, 150, 200, 50, 120, 180, 130, 90],\n",
    "    'link': [\n",
    "        'https://video-cdn.socialverseapp.com/101.mp4',\n",
    "        'https://video-cdn.socialverseapp.com/102.mp4',\n",
    "        'https://video-cdn.socialverseapp.com/103.mp4',\n",
    "        'https://video-cdn.socialverseapp.com/104.mp4',\n",
    "        'https://video-cdn.socialverseapp.com/105.mp4',\n",
    "        'https://video-cdn.socialverseapp.com/106.mp4',\n",
    "        'https://video-cdn.socialverseapp.com/107.mp4',\n",
    "        'https://video-cdn.socialverseapp.com/108.mp4'\n",
    "    ]\n",
    "})\n",
    "\n",
    "# Recommendation function\n",
    "def recommend_videos(user_id, user_data, video_df):\n",
    "    user = user_data[user_data['user_id'] == user_id].iloc[0]\n",
    "    watched_videos = user['watch_history']\n",
    "    \n",
    "    # Filter out watched videos\n",
    "    recommendations = video_df[~video_df['video_id'].isin(watched_videos)]\n",
    "    \n",
    "    # Basic recommendation logic: sort by rating and views\n",
    "    recommendations = recommendations.sort_values(by=['rating', 'views'], ascending=False)\n",
    "    \n",
    "    return recommendations\n",
    "\n",
    "# Test the recommendation for each user in the dummy data\n",
    "for _, user in user_data.iterrows():\n",
    "    print(f\"\\nRecommended Videos for User {user['user_id']}:\")\n",
    "    recommended_videos = recommend_videos(user['user_id'], user_data, video_df)\n",
    "    print(recommended_videos[['title', 'rating', 'views', 'link']])\n"
   ]
  },
  {
   "cell_type": "code",
   "execution_count": null,
   "id": "0c1a1c23-ece3-4e5b-9320-ac686cd538fc",
   "metadata": {},
   "outputs": [],
   "source": []
  }
 ],
 "metadata": {
  "kernelspec": {
   "display_name": "Python 3 (ipykernel)",
   "language": "python",
   "name": "python3"
  },
  "language_info": {
   "codemirror_mode": {
    "name": "ipython",
    "version": 3
   },
   "file_extension": ".py",
   "mimetype": "text/x-python",
   "name": "python",
   "nbconvert_exporter": "python",
   "pygments_lexer": "ipython3",
   "version": "3.11.7"
  }
 },
 "nbformat": 4,
 "nbformat_minor": 5
}
